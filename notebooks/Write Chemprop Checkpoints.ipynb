{
 "cells": [
  {
   "cell_type": "code",
   "execution_count": 1,
   "metadata": {},
   "outputs": [
    {
     "name": "stdout",
     "output_type": "stream",
     "text": [
      "env: CUDA_VISIBLE_DEVICES=''\n"
     ]
    }
   ],
   "source": [
    "%env CUDA_VISIBLE_DEVICES=''\n",
    "\n",
    "import sys\n",
    "sys.path.append('..')\n",
    "sys.path.append('/scratch/mmd/chemprop/')\n",
    "\n",
    "%load_ext autoreload"
   ]
  },
  {
   "cell_type": "code",
   "execution_count": 9,
   "metadata": {},
   "outputs": [],
   "source": [
    "%autoreload\n",
    "\n",
    "import pickle, torch\n",
    "\n",
    "from molecule_ge_coordinated_embeddings.models import load_chemprop_model\n",
    "from chemprop.utils import save_checkpoint"
   ]
  },
  {
   "cell_type": "markdown",
   "metadata": {},
   "source": [
    "### From Original Chemprop Checkpoint"
   ]
  },
  {
   "cell_type": "code",
   "execution_count": 46,
   "metadata": {},
   "outputs": [],
   "source": [
    "def load_strip_store(inpath, outpath):\n",
    "    _, C, args = load_chemprop_model(\n",
    "        inpath, load_weights=False, return_raw=True, use_cuda=False\n",
    "    )\n",
    "    save_checkpoint(outpath, C, None, None, args)\n",
    "    return C"
   ]
  },
  {
   "cell_type": "code",
   "execution_count": 47,
   "metadata": {},
   "outputs": [],
   "source": [
    "C = load_strip_store(\n",
    "    '/crimea/molecule_ge_embedder/chemprop_models/model_unoptimized.pt',\n",
    "    '/crimea/molecule_ge_embedder/runs/transfer_to_chemprop_runs/chemprop_unoptimized_random_init.pt'\n",
    ")"
   ]
  },
  {
   "cell_type": "markdown",
   "metadata": {},
   "source": [
    "### From Molecule Embedder"
   ]
  },
  {
   "cell_type": "code",
   "execution_count": 19,
   "metadata": {},
   "outputs": [],
   "source": [
    "def load_from_molecule_embedder_checkpoint(checkpoint_path, orig_chemprop_path, outpath):\n",
    "    ordered_state_dict = torch.load(checkpoint_path, map_location=torch.device('cpu'))\n",
    "    prefix = 'chemprop_encoder.'\n",
    "    chemprop_encoder_state_dict = {\n",
    "        k.replace(prefix, ''): v for k, v in ordered_state_dict.items() if k.startswith(prefix)\n",
    "    }\n",
    "    \n",
    "    _, orig_model, args = load_chemprop_model(\n",
    "        orig_chemprop_path, load_weights=False, return_raw=True, use_cuda=False\n",
    "    )\n",
    "    \n",
    "    orig_model.encoder.load_state_dict(chemprop_encoder_state_dict)\n",
    "    \n",
    "    save_checkpoint(outpath, orig_model, None, None, args)"
   ]
  },
  {
   "cell_type": "code",
   "execution_count": 23,
   "metadata": {},
   "outputs": [],
   "source": [
    "load_from_molecule_embedder_checkpoint(\n",
    "    '/crimea/molecule_ge_embedder/runs/transfer_to_chemprop_runs/exp_1/molecule_embedder_exp/'\n",
    "    '35c2bd2edeb5f11fa53f9241478ee399/checkpoint_35c2bd2edeb5f11fa53f9241478ee399_val_mrr=0.011574793016316887.pth',\n",
    "    '/crimea/molecule_ge_embedder/chemprop_models/model_unoptimized.pt',\n",
    "    '/crimea/molecule_ge_embedder/runs/transfer_to_chemprop_runs/chemprop_unoptimized_molembed_init_12_ep.pt'\n",
    ")"
   ]
  },
  {
   "cell_type": "code",
   "execution_count": null,
   "metadata": {},
   "outputs": [],
   "source": []
  }
 ],
 "metadata": {
  "kernelspec": {
   "display_name": "Python 3",
   "language": "python",
   "name": "python3"
  },
  "language_info": {
   "codemirror_mode": {
    "name": "ipython",
    "version": 3
   },
   "file_extension": ".py",
   "mimetype": "text/x-python",
   "name": "python",
   "nbconvert_exporter": "python",
   "pygments_lexer": "ipython3",
   "version": "3.7.6"
  }
 },
 "nbformat": 4,
 "nbformat_minor": 4
}
