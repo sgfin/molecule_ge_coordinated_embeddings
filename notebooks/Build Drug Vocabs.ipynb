{
 "cells": [
  {
   "cell_type": "code",
   "execution_count": 1,
   "metadata": {},
   "outputs": [],
   "source": [
    "%load_ext autoreload\n",
    "\n",
    "import sys\n",
    "sys.path.append('..')\n",
    "sys.path.append('/scratch/mmd/chemprop')\n",
    "sys.path.append('/scratch/mmd/drug_attention_network')"
   ]
  },
  {
   "cell_type": "code",
   "execution_count": 4,
   "metadata": {},
   "outputs": [],
   "source": [
    "%autoreload\n",
    "\n",
    "import os, pandas, pickle\n",
    "\n",
    "from rdkit.Chem.Draw import IPythonConsole\n",
    "\n",
    "from drug_attention_network.data import *\n",
    "\n",
    "%matplotlib inline"
   ]
  },
  {
   "cell_type": "code",
   "execution_count": 12,
   "metadata": {},
   "outputs": [
    {
     "name": "stderr",
     "output_type": "stream",
     "text": [
      "RDKit ERROR: [14:30:58] SMILES Parse Error: syntax error while parsing: -666\n",
      "RDKit ERROR: [14:30:58] SMILES Parse Error: Failed parsing SMILES '-666' for input: '-666'\n",
      "RDKit ERROR: [14:30:58] SMILES Parse Error: syntax error while parsing: -666\n",
      "RDKit ERROR: [14:30:58] SMILES Parse Error: Failed parsing SMILES '-666' for input: '-666'\n"
     ]
    },
    {
     "name": "stdout",
     "output_type": "stream",
     "text": [
      "Failed on -666: \n",
      "Failed on -666: \n"
     ]
    },
    {
     "name": "stderr",
     "output_type": "stream",
     "text": [
      "RDKit ERROR: [14:31:16] SMILES Parse Error: syntax error while parsing: -666\n",
      "RDKit ERROR: [14:31:16] SMILES Parse Error: Failed parsing SMILES '-666' for input: '-666'\n",
      "RDKit ERROR: [14:31:16] SMILES Parse Error: syntax error while parsing: -666\n",
      "RDKit ERROR: [14:31:16] SMILES Parse Error: Failed parsing SMILES '-666' for input: '-666'\n"
     ]
    },
    {
     "name": "stdout",
     "output_type": "stream",
     "text": [
      "Failed on -666: \n",
      "Failed on -666: \n"
     ]
    },
    {
     "name": "stderr",
     "output_type": "stream",
     "text": [
      "RDKit ERROR: [14:31:39] SMILES Parse Error: syntax error while parsing: restricted\n",
      "RDKit ERROR: [14:31:39] SMILES Parse Error: Failed parsing SMILES 'restricted' for input: 'restricted'\n",
      "RDKit ERROR: [14:31:39] SMILES Parse Error: syntax error while parsing: restricted\n",
      "RDKit ERROR: [14:31:39] SMILES Parse Error: Failed parsing SMILES 'restricted' for input: 'restricted'\n"
     ]
    },
    {
     "name": "stdout",
     "output_type": "stream",
     "text": [
      "Failed on restricted: \n",
      "Failed on restricted: \n"
     ]
    },
    {
     "name": "stderr",
     "output_type": "stream",
     "text": [
      "RDKit ERROR: [14:31:43] SMILES Parse Error: syntax error while parsing: -666\n",
      "RDKit ERROR: [14:31:43] SMILES Parse Error: Failed parsing SMILES '-666' for input: '-666'\n",
      "RDKit ERROR: [14:31:43] SMILES Parse Error: syntax error while parsing: -666\n",
      "RDKit ERROR: [14:31:43] SMILES Parse Error: Failed parsing SMILES '-666' for input: '-666'\n"
     ]
    },
    {
     "name": "stdout",
     "output_type": "stream",
     "text": [
      "Failed on -666: \n",
      "Failed on -666: \n"
     ]
    },
    {
     "name": "stderr",
     "output_type": "stream",
     "text": [
      "RDKit ERROR: [14:31:49] SMILES Parse Error: syntax error while parsing: -666\n",
      "RDKit ERROR: [14:31:49] SMILES Parse Error: Failed parsing SMILES '-666' for input: '-666'\n",
      "RDKit ERROR: [14:31:49] SMILES Parse Error: syntax error while parsing: -666\n",
      "RDKit ERROR: [14:31:49] SMILES Parse Error: Failed parsing SMILES '-666' for input: '-666'\n"
     ]
    },
    {
     "name": "stdout",
     "output_type": "stream",
     "text": [
      "Failed on -666: \n",
      "Failed on -666: \n"
     ]
    }
   ],
   "source": [
    "DATA_DIR = '/crimea/molecule_ge_embedder/datasets/'\n",
    "\n",
    "data_filenames = [\n",
    "    f for f in os.listdir(DATA_DIR) if f.startswith('lincs_level3') and not f.endswith('atoms_and_bonds.pkl')\n",
    "]\n",
    "\n",
    "for fn in data_filenames:\n",
    "    out_fn = '%s_atoms_and_bonds.pkl' % fn[:-4]\n",
    "    \n",
    "    with open(os.path.join(DATA_DIR, fn), mode='rb') as f: raw_data = pickle.load(f)\n",
    "        \n",
    "    by_drug = raw_data.groupby('canonical_smiles').first()\n",
    "    all_drugs = by_drug.index.values\n",
    "    all_atoms, all_bonds = get_atom_and_bond_vocabs(all_drugs)\n",
    "    with open(os.path.join(DATA_DIR, out_fn), mode='wb') as f: pickle.dump((all_atoms, all_bonds), f)"
   ]
  },
  {
   "cell_type": "code",
   "execution_count": 8,
   "metadata": {},
   "outputs": [
    {
     "data": {
      "text/plain": [
       "'lincs_level3_perts_shared_9_cellLines_atoms_and_bonds.pkl'"
      ]
     },
     "execution_count": 8,
     "metadata": {},
     "output_type": "execute_result"
    }
   ],
   "source": [
    "out_fn"
   ]
  },
  {
   "cell_type": "code",
   "execution_count": 9,
   "metadata": {},
   "outputs": [
    {
     "data": {
      "text/plain": [
       "67"
      ]
     },
     "execution_count": 9,
     "metadata": {},
     "output_type": "execute_result"
    }
   ],
   "source": [
    "len(all_atoms)"
   ]
  },
  {
   "cell_type": "code",
   "execution_count": 10,
   "metadata": {},
   "outputs": [
    {
     "data": {
      "text/plain": [
       "19"
      ]
     },
     "execution_count": 10,
     "metadata": {},
     "output_type": "execute_result"
    }
   ],
   "source": [
    "len(all_bonds)"
   ]
  },
  {
   "cell_type": "code",
   "execution_count": 16,
   "metadata": {},
   "outputs": [
    {
     "ename": "TypeError",
     "evalue": "whichmodule() missing 2 required positional arguments: 'obj' and 'name'",
     "output_type": "error",
     "traceback": [
      "\u001b[0;31m---------------------------------------------------------------------------\u001b[0m",
      "\u001b[0;31mTypeError\u001b[0m                                 Traceback (most recent call last)",
      "\u001b[0;32m<ipython-input-16-a76836c5738f>\u001b[0m in \u001b[0;36m<module>\u001b[0;34m\u001b[0m\n\u001b[0;32m----> 1\u001b[0;31m \u001b[0mpickle\u001b[0m\u001b[0;34m.\u001b[0m\u001b[0mwhichmodule\u001b[0m\u001b[0;34m(\u001b[0m\u001b[0;34m)\u001b[0m\u001b[0;34m\u001b[0m\u001b[0;34m\u001b[0m\u001b[0m\n\u001b[0m",
      "\u001b[0;31mTypeError\u001b[0m: whichmodule() missing 2 required positional arguments: 'obj' and 'name'"
     ]
    }
   ],
   "source": [
    "pickle.whichmodule()"
   ]
  },
  {
   "cell_type": "code",
   "execution_count": 17,
   "metadata": {},
   "outputs": [
    {
     "data": {
      "text/plain": [
       "3"
      ]
     },
     "execution_count": 17,
     "metadata": {},
     "output_type": "execute_result"
    }
   ],
   "source": [
    "pickle.DEFAULT_PROTOCOL"
   ]
  },
  {
   "cell_type": "code",
   "execution_count": 18,
   "metadata": {},
   "outputs": [],
   "source": [
    "with open(os.path.join(DATA_DIR, out_fn), mode='rb') as f: all_atoms, all_bonds = pickle.load(f)"
   ]
  },
  {
   "cell_type": "code",
   "execution_count": 19,
   "metadata": {},
   "outputs": [],
   "source": [
    "t = torch.zeros(3, 4\n",
    "               )"
   ]
  },
  {
   "cell_type": "code",
   "execution_count": 20,
   "metadata": {},
   "outputs": [
    {
     "data": {
      "text/plain": [
       "tensor([[0., 0., 0., 0.],\n",
       "        [0., 0., 0., 0.],\n",
       "        [0., 0., 0., 0.]])"
      ]
     },
     "execution_count": 20,
     "metadata": {},
     "output_type": "execute_result"
    }
   ],
   "source": [
    "t"
   ]
  },
  {
   "cell_type": "code",
   "execution_count": 22,
   "metadata": {},
   "outputs": [
    {
     "data": {
      "text/plain": [
       "device(type='cpu')"
      ]
     },
     "execution_count": 22,
     "metadata": {},
     "output_type": "execute_result"
    }
   ],
   "source": [
    "t.device"
   ]
  },
  {
   "cell_type": "code",
   "execution_count": 27,
   "metadata": {},
   "outputs": [
    {
     "data": {
      "text/plain": [
       "device(type='cuda', index=0)"
      ]
     },
     "execution_count": 27,
     "metadata": {},
     "output_type": "execute_result"
    }
   ],
   "source": [
    "t2 = torch.zeros(2, 2).cuda()\n",
    "t = t.to(t2.device)\n",
    "t.device"
   ]
  },
  {
   "cell_type": "code",
   "execution_count": 26,
   "metadata": {},
   "outputs": [
    {
     "data": {
      "text/plain": [
       "device(type='cpu')"
      ]
     },
     "execution_count": 26,
     "metadata": {},
     "output_type": "execute_result"
    }
   ],
   "source": [
    "t.device"
   ]
  },
  {
   "cell_type": "code",
   "execution_count": null,
   "metadata": {},
   "outputs": [],
   "source": []
  }
 ],
 "metadata": {
  "kernelspec": {
   "display_name": "Python 3",
   "language": "python",
   "name": "python3"
  },
  "language_info": {
   "codemirror_mode": {
    "name": "ipython",
    "version": 3
   },
   "file_extension": ".py",
   "mimetype": "text/x-python",
   "name": "python",
   "nbconvert_exporter": "python",
   "pygments_lexer": "ipython3",
   "version": "3.7.6"
  }
 },
 "nbformat": 4,
 "nbformat_minor": 4
}
